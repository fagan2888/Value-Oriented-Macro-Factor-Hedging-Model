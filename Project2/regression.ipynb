{
 "cells": [
  {
   "cell_type": "code",
   "execution_count": 2,
   "metadata": {},
   "outputs": [
    {
     "name": "stderr",
     "output_type": "stream",
     "text": [
      "/Users/lihuadong/anaconda/envs/py36/lib/python3.6/site-packages/statsmodels/compat/pandas.py:56: FutureWarning: The pandas.core.datetools module is deprecated and will be removed in a future version. Please use the pandas.tseries module instead.\n",
      "  from pandas.core import datetools\n"
     ]
    }
   ],
   "source": [
    "import numpy as np\n",
    "import pandas as pd\n",
    "from scipy import stats\n",
    "import matplotlib.pyplot as plt\n",
    "import seaborn as sns\n",
    "import statsmodels.api as sm"
   ]
  },
  {
   "cell_type": "code",
   "execution_count": 3,
   "metadata": {
    "collapsed": true
   },
   "outputs": [],
   "source": [
    "factor = pd.read_csv(\"factor.csv\")\n",
    "stock = pd.read_csv(\"stock_price.csv\")"
   ]
  },
  {
   "cell_type": "code",
   "execution_count": 24,
   "metadata": {},
   "outputs": [
    {
     "data": {
      "text/html": [
       "<div>\n",
       "<style>\n",
       "    .dataframe thead tr:only-child th {\n",
       "        text-align: right;\n",
       "    }\n",
       "\n",
       "    .dataframe thead th {\n",
       "        text-align: left;\n",
       "    }\n",
       "\n",
       "    .dataframe tbody tr th {\n",
       "        vertical-align: top;\n",
       "    }\n",
       "</style>\n",
       "<table border=\"1\" class=\"dataframe\">\n",
       "  <thead>\n",
       "    <tr style=\"text-align: right;\">\n",
       "      <th></th>\n",
       "      <th>year</th>\n",
       "      <th>month</th>\n",
       "      <th>hours</th>\n",
       "      <th>claim</th>\n",
       "      <th>con_order</th>\n",
       "      <th>cap_order</th>\n",
       "      <th>permit</th>\n",
       "      <th>M2</th>\n",
       "      <th>spread</th>\n",
       "      <th>umich</th>\n",
       "      <th>sp500</th>\n",
       "    </tr>\n",
       "  </thead>\n",
       "  <tbody>\n",
       "    <tr>\n",
       "      <th>0</th>\n",
       "      <td>2000</td>\n",
       "      <td>1</td>\n",
       "      <td>0.002415</td>\n",
       "      <td>0.013724</td>\n",
       "      <td>0.055633</td>\n",
       "      <td>-0.022551</td>\n",
       "      <td>0.026144</td>\n",
       "      <td>0.006093</td>\n",
       "      <td>0.234694</td>\n",
       "      <td>0.062619</td>\n",
       "      <td>-0.002169</td>\n",
       "    </tr>\n",
       "    <tr>\n",
       "      <th>1</th>\n",
       "      <td>2000</td>\n",
       "      <td>2</td>\n",
       "      <td>0.000000</td>\n",
       "      <td>0.030932</td>\n",
       "      <td>-0.044304</td>\n",
       "      <td>-0.085627</td>\n",
       "      <td>-0.020266</td>\n",
       "      <td>0.002856</td>\n",
       "      <td>-0.347107</td>\n",
       "      <td>-0.006250</td>\n",
       "      <td>-0.025752</td>\n",
       "    </tr>\n",
       "    <tr>\n",
       "      <th>2</th>\n",
       "      <td>2000</td>\n",
       "      <td>3</td>\n",
       "      <td>-0.002410</td>\n",
       "      <td>-0.049299</td>\n",
       "      <td>-0.006508</td>\n",
       "      <td>0.087953</td>\n",
       "      <td>-0.024232</td>\n",
       "      <td>0.006596</td>\n",
       "      <td>-0.481013</td>\n",
       "      <td>-0.037736</td>\n",
       "      <td>0.038405</td>\n",
       "    </tr>\n",
       "    <tr>\n",
       "      <th>3</th>\n",
       "      <td>2000</td>\n",
       "      <td>4</td>\n",
       "      <td>0.004831</td>\n",
       "      <td>-0.037997</td>\n",
       "      <td>0.015782</td>\n",
       "      <td>0.012130</td>\n",
       "      <td>-0.032707</td>\n",
       "      <td>0.011871</td>\n",
       "      <td>-1.073171</td>\n",
       "      <td>0.019608</td>\n",
       "      <td>0.013273</td>\n",
       "    </tr>\n",
       "    <tr>\n",
       "      <th>4</th>\n",
       "      <td>2000</td>\n",
       "      <td>5</td>\n",
       "      <td>-0.009615</td>\n",
       "      <td>0.050186</td>\n",
       "      <td>-0.030810</td>\n",
       "      <td>-0.010262</td>\n",
       "      <td>-0.033813</td>\n",
       "      <td>-0.002628</td>\n",
       "      <td>-6.666667</td>\n",
       "      <td>0.013736</td>\n",
       "      <td>-0.029340</td>\n",
       "    </tr>\n",
       "  </tbody>\n",
       "</table>\n",
       "</div>"
      ],
      "text/plain": [
       "   year  month     hours     claim  con_order  cap_order    permit        M2  \\\n",
       "0  2000      1  0.002415  0.013724   0.055633  -0.022551  0.026144  0.006093   \n",
       "1  2000      2  0.000000  0.030932  -0.044304  -0.085627 -0.020266  0.002856   \n",
       "2  2000      3 -0.002410 -0.049299  -0.006508   0.087953 -0.024232  0.006596   \n",
       "3  2000      4  0.004831 -0.037997   0.015782   0.012130 -0.032707  0.011871   \n",
       "4  2000      5 -0.009615  0.050186  -0.030810  -0.010262 -0.033813 -0.002628   \n",
       "\n",
       "     spread     umich     sp500  \n",
       "0  0.234694  0.062619 -0.002169  \n",
       "1 -0.347107 -0.006250 -0.025752  \n",
       "2 -0.481013 -0.037736  0.038405  \n",
       "3 -1.073171  0.019608  0.013273  \n",
       "4 -6.666667  0.013736 -0.029340  "
      ]
     },
     "execution_count": 24,
     "metadata": {},
     "output_type": "execute_result"
    }
   ],
   "source": [
    "factor.rename_axis({\"man_order\": \"cap_order\"},axis=1, inplace=True)\n",
    "factor.head()"
   ]
  },
  {
   "cell_type": "code",
   "execution_count": 25,
   "metadata": {},
   "outputs": [
    {
     "data": {
      "text/html": [
       "<div>\n",
       "<style>\n",
       "    .dataframe thead tr:only-child th {\n",
       "        text-align: right;\n",
       "    }\n",
       "\n",
       "    .dataframe thead th {\n",
       "        text-align: left;\n",
       "    }\n",
       "\n",
       "    .dataframe tbody tr th {\n",
       "        vertical-align: top;\n",
       "    }\n",
       "</style>\n",
       "<table border=\"1\" class=\"dataframe\">\n",
       "  <thead>\n",
       "    <tr style=\"text-align: right;\">\n",
       "      <th></th>\n",
       "      <th>const</th>\n",
       "      <th>hours</th>\n",
       "      <th>claim</th>\n",
       "      <th>con_order</th>\n",
       "      <th>cap_order</th>\n",
       "      <th>permit</th>\n",
       "      <th>M2</th>\n",
       "      <th>spread</th>\n",
       "      <th>umich</th>\n",
       "      <th>sp500</th>\n",
       "    </tr>\n",
       "  </thead>\n",
       "  <tbody>\n",
       "    <tr>\n",
       "      <th>1</th>\n",
       "      <td>1.0</td>\n",
       "      <td>0.000000</td>\n",
       "      <td>0.030932</td>\n",
       "      <td>-0.044304</td>\n",
       "      <td>-0.085627</td>\n",
       "      <td>-0.020266</td>\n",
       "      <td>0.002856</td>\n",
       "      <td>-0.347107</td>\n",
       "      <td>-0.006250</td>\n",
       "      <td>-0.025752</td>\n",
       "    </tr>\n",
       "    <tr>\n",
       "      <th>2</th>\n",
       "      <td>1.0</td>\n",
       "      <td>-0.002410</td>\n",
       "      <td>-0.049299</td>\n",
       "      <td>-0.006508</td>\n",
       "      <td>0.087953</td>\n",
       "      <td>-0.024232</td>\n",
       "      <td>0.006596</td>\n",
       "      <td>-0.481013</td>\n",
       "      <td>-0.037736</td>\n",
       "      <td>0.038405</td>\n",
       "    </tr>\n",
       "    <tr>\n",
       "      <th>3</th>\n",
       "      <td>1.0</td>\n",
       "      <td>0.004831</td>\n",
       "      <td>-0.037997</td>\n",
       "      <td>0.015782</td>\n",
       "      <td>0.012130</td>\n",
       "      <td>-0.032707</td>\n",
       "      <td>0.011871</td>\n",
       "      <td>-1.073171</td>\n",
       "      <td>0.019608</td>\n",
       "      <td>0.013273</td>\n",
       "    </tr>\n",
       "    <tr>\n",
       "      <th>4</th>\n",
       "      <td>1.0</td>\n",
       "      <td>-0.009615</td>\n",
       "      <td>0.050186</td>\n",
       "      <td>-0.030810</td>\n",
       "      <td>-0.010262</td>\n",
       "      <td>-0.033813</td>\n",
       "      <td>-0.002628</td>\n",
       "      <td>-6.666667</td>\n",
       "      <td>0.013736</td>\n",
       "      <td>-0.029340</td>\n",
       "    </tr>\n",
       "    <tr>\n",
       "      <th>5</th>\n",
       "      <td>1.0</td>\n",
       "      <td>0.002427</td>\n",
       "      <td>0.011504</td>\n",
       "      <td>-0.020719</td>\n",
       "      <td>0.071197</td>\n",
       "      <td>0.018795</td>\n",
       "      <td>0.003752</td>\n",
       "      <td>-3.529412</td>\n",
       "      <td>-0.038844</td>\n",
       "      <td>0.030652</td>\n",
       "    </tr>\n",
       "  </tbody>\n",
       "</table>\n",
       "</div>"
      ],
      "text/plain": [
       "   const     hours     claim  con_order  cap_order    permit        M2  \\\n",
       "1    1.0  0.000000  0.030932  -0.044304  -0.085627 -0.020266  0.002856   \n",
       "2    1.0 -0.002410 -0.049299  -0.006508   0.087953 -0.024232  0.006596   \n",
       "3    1.0  0.004831 -0.037997   0.015782   0.012130 -0.032707  0.011871   \n",
       "4    1.0 -0.009615  0.050186  -0.030810  -0.010262 -0.033813 -0.002628   \n",
       "5    1.0  0.002427  0.011504  -0.020719   0.071197  0.018795  0.003752   \n",
       "\n",
       "     spread     umich     sp500  \n",
       "1 -0.347107 -0.006250 -0.025752  \n",
       "2 -0.481013 -0.037736  0.038405  \n",
       "3 -1.073171  0.019608  0.013273  \n",
       "4 -6.666667  0.013736 -0.029340  \n",
       "5 -3.529412 -0.038844  0.030652  "
      ]
     },
     "execution_count": 25,
     "metadata": {},
     "output_type": "execute_result"
    }
   ],
   "source": [
    "X = factor.iloc[:48, 2:]\n",
    "X = sm.add_constant(X)\n",
    "X.drop(0,inplace = True)\n",
    "X.head()"
   ]
  },
  {
   "cell_type": "code",
   "execution_count": 26,
   "metadata": {},
   "outputs": [
    {
     "data": {
      "text/html": [
       "<div>\n",
       "<style>\n",
       "    .dataframe thead tr:only-child th {\n",
       "        text-align: right;\n",
       "    }\n",
       "\n",
       "    .dataframe thead th {\n",
       "        text-align: left;\n",
       "    }\n",
       "\n",
       "    .dataframe tbody tr th {\n",
       "        vertical-align: top;\n",
       "    }\n",
       "</style>\n",
       "<table border=\"1\" class=\"dataframe\">\n",
       "  <thead>\n",
       "    <tr style=\"text-align: right;\">\n",
       "      <th></th>\n",
       "      <th>LPX</th>\n",
       "      <th>MTH</th>\n",
       "      <th>DHI</th>\n",
       "      <th>FINL</th>\n",
       "      <th>STC</th>\n",
       "      <th>RNR</th>\n",
       "      <th>FBC</th>\n",
       "      <th>RWT</th>\n",
       "      <th>CLI</th>\n",
       "      <th>HELE</th>\n",
       "      <th>...</th>\n",
       "      <th>T</th>\n",
       "      <th>PXD</th>\n",
       "      <th>DVN</th>\n",
       "      <th>CLGX</th>\n",
       "      <th>CAL</th>\n",
       "      <th>FCN</th>\n",
       "      <th>DLX</th>\n",
       "      <th>INGR</th>\n",
       "      <th>CMTL</th>\n",
       "      <th>ORCL</th>\n",
       "    </tr>\n",
       "  </thead>\n",
       "  <tbody>\n",
       "    <tr>\n",
       "      <th>1</th>\n",
       "      <td>-0.071629</td>\n",
       "      <td>0.110409</td>\n",
       "      <td>-0.028930</td>\n",
       "      <td>0.043493</td>\n",
       "      <td>0.037917</td>\n",
       "      <td>-0.017358</td>\n",
       "      <td>-0.084445</td>\n",
       "      <td>-0.034993</td>\n",
       "      <td>-0.066338</td>\n",
       "      <td>-0.125000</td>\n",
       "      <td>...</td>\n",
       "      <td>-0.119534</td>\n",
       "      <td>-0.029233</td>\n",
       "      <td>0.060494</td>\n",
       "      <td>-0.021059</td>\n",
       "      <td>0.012055</td>\n",
       "      <td>0.183675</td>\n",
       "      <td>-0.110254</td>\n",
       "      <td>0.024413</td>\n",
       "      <td>0.343279</td>\n",
       "      <td>0.486396</td>\n",
       "    </tr>\n",
       "    <tr>\n",
       "      <th>2</th>\n",
       "      <td>0.174597</td>\n",
       "      <td>-0.116014</td>\n",
       "      <td>0.161106</td>\n",
       "      <td>0.625000</td>\n",
       "      <td>0.155248</td>\n",
       "      <td>0.079203</td>\n",
       "      <td>0.009709</td>\n",
       "      <td>0.258172</td>\n",
       "      <td>0.073685</td>\n",
       "      <td>-0.017857</td>\n",
       "      <td>...</td>\n",
       "      <td>0.115894</td>\n",
       "      <td>0.263151</td>\n",
       "      <td>0.305173</td>\n",
       "      <td>0.204291</td>\n",
       "      <td>0.152710</td>\n",
       "      <td>-0.068959</td>\n",
       "      <td>0.130665</td>\n",
       "      <td>0.025742</td>\n",
       "      <td>-0.180548</td>\n",
       "      <td>0.051348</td>\n",
       "    </tr>\n",
       "    <tr>\n",
       "      <th>3</th>\n",
       "      <td>-0.036036</td>\n",
       "      <td>0.100000</td>\n",
       "      <td>-0.009542</td>\n",
       "      <td>0.083329</td>\n",
       "      <td>-0.098812</td>\n",
       "      <td>-0.100916</td>\n",
       "      <td>0.046551</td>\n",
       "      <td>-0.008408</td>\n",
       "      <td>0.033315</td>\n",
       "      <td>-0.036364</td>\n",
       "      <td>...</td>\n",
       "      <td>0.045785</td>\n",
       "      <td>-0.017806</td>\n",
       "      <td>-0.009009</td>\n",
       "      <td>0.107622</td>\n",
       "      <td>-0.145821</td>\n",
       "      <td>0.203700</td>\n",
       "      <td>-0.049528</td>\n",
       "      <td>-0.002630</td>\n",
       "      <td>-0.345772</td>\n",
       "      <td>0.024019</td>\n",
       "    </tr>\n",
       "    <tr>\n",
       "      <th>4</th>\n",
       "      <td>-0.150988</td>\n",
       "      <td>0.005673</td>\n",
       "      <td>0.012667</td>\n",
       "      <td>-0.337268</td>\n",
       "      <td>-0.114039</td>\n",
       "      <td>0.189435</td>\n",
       "      <td>-0.305556</td>\n",
       "      <td>-0.076618</td>\n",
       "      <td>0.048537</td>\n",
       "      <td>-0.009434</td>\n",
       "      <td>...</td>\n",
       "      <td>-0.002854</td>\n",
       "      <td>0.448484</td>\n",
       "      <td>0.242858</td>\n",
       "      <td>0.076909</td>\n",
       "      <td>0.164620</td>\n",
       "      <td>0.153859</td>\n",
       "      <td>-0.005560</td>\n",
       "      <td>0.023404</td>\n",
       "      <td>0.046636</td>\n",
       "      <td>-0.100861</td>\n",
       "    </tr>\n",
       "    <tr>\n",
       "      <th>5</th>\n",
       "      <td>-0.033333</td>\n",
       "      <td>-0.033881</td>\n",
       "      <td>0.038302</td>\n",
       "      <td>0.169635</td>\n",
       "      <td>0.158418</td>\n",
       "      <td>0.005770</td>\n",
       "      <td>-0.133333</td>\n",
       "      <td>0.062624</td>\n",
       "      <td>-0.048606</td>\n",
       "      <td>-0.147611</td>\n",
       "      <td>...</td>\n",
       "      <td>0.007157</td>\n",
       "      <td>-0.145390</td>\n",
       "      <td>-0.062949</td>\n",
       "      <td>-0.135770</td>\n",
       "      <td>0.098222</td>\n",
       "      <td>0.119999</td>\n",
       "      <td>-0.045572</td>\n",
       "      <td>0.083745</td>\n",
       "      <td>0.306933</td>\n",
       "      <td>0.169565</td>\n",
       "    </tr>\n",
       "  </tbody>\n",
       "</table>\n",
       "<p>5 rows × 26 columns</p>\n",
       "</div>"
      ],
      "text/plain": [
       "        LPX       MTH       DHI      FINL       STC       RNR       FBC  \\\n",
       "1 -0.071629  0.110409 -0.028930  0.043493  0.037917 -0.017358 -0.084445   \n",
       "2  0.174597 -0.116014  0.161106  0.625000  0.155248  0.079203  0.009709   \n",
       "3 -0.036036  0.100000 -0.009542  0.083329 -0.098812 -0.100916  0.046551   \n",
       "4 -0.150988  0.005673  0.012667 -0.337268 -0.114039  0.189435 -0.305556   \n",
       "5 -0.033333 -0.033881  0.038302  0.169635  0.158418  0.005770 -0.133333   \n",
       "\n",
       "        RWT       CLI      HELE    ...            T       PXD       DVN  \\\n",
       "1 -0.034993 -0.066338 -0.125000    ...    -0.119534 -0.029233  0.060494   \n",
       "2  0.258172  0.073685 -0.017857    ...     0.115894  0.263151  0.305173   \n",
       "3 -0.008408  0.033315 -0.036364    ...     0.045785 -0.017806 -0.009009   \n",
       "4 -0.076618  0.048537 -0.009434    ...    -0.002854  0.448484  0.242858   \n",
       "5  0.062624 -0.048606 -0.147611    ...     0.007157 -0.145390 -0.062949   \n",
       "\n",
       "       CLGX       CAL       FCN       DLX      INGR      CMTL      ORCL  \n",
       "1 -0.021059  0.012055  0.183675 -0.110254  0.024413  0.343279  0.486396  \n",
       "2  0.204291  0.152710 -0.068959  0.130665  0.025742 -0.180548  0.051348  \n",
       "3  0.107622 -0.145821  0.203700 -0.049528 -0.002630 -0.345772  0.024019  \n",
       "4  0.076909  0.164620  0.153859 -0.005560  0.023404  0.046636 -0.100861  \n",
       "5 -0.135770  0.098222  0.119999 -0.045572  0.083745  0.306933  0.169565  \n",
       "\n",
       "[5 rows x 26 columns]"
      ]
     },
     "execution_count": 26,
     "metadata": {},
     "output_type": "execute_result"
    }
   ],
   "source": [
    "# Compute stock returns\n",
    "ret = stock.diff() / stock.shift()\n",
    "ret.dropna(inplace = True)\n",
    "ret = ret.iloc[:, 2:]\n",
    "ret.head()"
   ]
  },
  {
   "cell_type": "code",
   "execution_count": 27,
   "metadata": {},
   "outputs": [
    {
     "data": {
      "text/html": [
       "<div>\n",
       "<style>\n",
       "    .dataframe thead tr:only-child th {\n",
       "        text-align: right;\n",
       "    }\n",
       "\n",
       "    .dataframe thead th {\n",
       "        text-align: left;\n",
       "    }\n",
       "\n",
       "    .dataframe tbody tr th {\n",
       "        vertical-align: top;\n",
       "    }\n",
       "</style>\n",
       "<table border=\"1\" class=\"dataframe\">\n",
       "  <thead>\n",
       "    <tr style=\"text-align: right;\">\n",
       "      <th></th>\n",
       "      <th>p-value mean</th>\n",
       "    </tr>\n",
       "  </thead>\n",
       "  <tbody>\n",
       "    <tr>\n",
       "      <th>hours</th>\n",
       "      <td>0.322330</td>\n",
       "    </tr>\n",
       "    <tr>\n",
       "      <th>const</th>\n",
       "      <td>0.357615</td>\n",
       "    </tr>\n",
       "    <tr>\n",
       "      <th>sp500</th>\n",
       "      <td>0.405322</td>\n",
       "    </tr>\n",
       "    <tr>\n",
       "      <th>cap_order</th>\n",
       "      <td>0.412950</td>\n",
       "    </tr>\n",
       "    <tr>\n",
       "      <th>umich</th>\n",
       "      <td>0.467010</td>\n",
       "    </tr>\n",
       "    <tr>\n",
       "      <th>con_order</th>\n",
       "      <td>0.490015</td>\n",
       "    </tr>\n",
       "    <tr>\n",
       "      <th>spread</th>\n",
       "      <td>0.501685</td>\n",
       "    </tr>\n",
       "    <tr>\n",
       "      <th>claim</th>\n",
       "      <td>0.536206</td>\n",
       "    </tr>\n",
       "    <tr>\n",
       "      <th>M2</th>\n",
       "      <td>0.555731</td>\n",
       "    </tr>\n",
       "    <tr>\n",
       "      <th>permit</th>\n",
       "      <td>0.590011</td>\n",
       "    </tr>\n",
       "  </tbody>\n",
       "</table>\n",
       "</div>"
      ],
      "text/plain": [
       "           p-value mean\n",
       "hours          0.322330\n",
       "const          0.357615\n",
       "sp500          0.405322\n",
       "cap_order      0.412950\n",
       "umich          0.467010\n",
       "con_order      0.490015\n",
       "spread         0.501685\n",
       "claim          0.536206\n",
       "M2             0.555731\n",
       "permit         0.590011"
      ]
     },
     "execution_count": 27,
     "metadata": {},
     "output_type": "execute_result"
    }
   ],
   "source": [
    "# Compute the mean p-value for each factors\n",
    "p_values = []\n",
    "for i in range(ret.shape[1]):\n",
    "    Y = ret.iloc[:47,i]\n",
    "    model = sm.OLS(Y, X)\n",
    "    result = model.fit()\n",
    "    p_values.append(result.pvalues)\n",
    "p = pd.concat(p_values, axis = 1)\n",
    "p.columns = ret.columns\n",
    "pvalue_mean = p.T.mean(axis = 0)\n",
    "pvalue_mean = pd.DataFrame(pvalue_mean.sort_values(), columns = [\"p-value mean\"])\n",
    "pvalue_mean"
   ]
  },
  {
   "cell_type": "code",
   "execution_count": 63,
   "metadata": {},
   "outputs": [
    {
     "data": {
      "text/plain": [
       "BMY     0.080279\n",
       "NEE     0.062584\n",
       "PXD     0.013965\n",
       "DLX     0.096548\n",
       "INGR    0.050528\n",
       "Name: hours, dtype: float64"
      ]
     },
     "execution_count": 63,
     "metadata": {},
     "output_type": "execute_result"
    }
   ],
   "source": [
    "p.loc[\"hours\",p.loc[\"hours\",:] <0.1]"
   ]
  },
  {
   "cell_type": "code",
   "execution_count": 64,
   "metadata": {},
   "outputs": [
    {
     "data": {
      "text/plain": [
       "LPX     0.003064\n",
       "DHI     0.054356\n",
       "FINL    0.002503\n",
       "RWT     0.088831\n",
       "CAL     0.047902\n",
       "ORCL    0.075342\n",
       "Name: sp500, dtype: float64"
      ]
     },
     "execution_count": 64,
     "metadata": {},
     "output_type": "execute_result"
    }
   ],
   "source": [
    "p.loc[\"sp500\",p.loc[\"sp500\",:] <0.1]"
   ]
  },
  {
   "cell_type": "code",
   "execution_count": 65,
   "metadata": {},
   "outputs": [
    {
     "data": {
      "text/plain": [
       "TAP     0.088918\n",
       "NEE     0.013357\n",
       "PXD     0.053237\n",
       "DVN     0.011080\n",
       "INGR    0.027860\n",
       "Name: cap_order, dtype: float64"
      ]
     },
     "execution_count": 65,
     "metadata": {},
     "output_type": "execute_result"
    }
   ],
   "source": [
    "p.loc[\"cap_order\",p.loc[\"cap_order\",:] <0.1]"
   ]
  },
  {
   "cell_type": "code",
   "execution_count": 66,
   "metadata": {},
   "outputs": [
    {
     "data": {
      "text/plain": [
       "CLI    0.090953\n",
       "UVV    0.022005\n",
       "EIX    0.072139\n",
       "Name: umich, dtype: float64"
      ]
     },
     "execution_count": 66,
     "metadata": {},
     "output_type": "execute_result"
    }
   ],
   "source": [
    "p.loc[\"umich\",p.loc[\"umich\",:] <0.1]"
   ]
  },
  {
   "cell_type": "code",
   "execution_count": 67,
   "metadata": {},
   "outputs": [
    {
     "data": {
      "text/plain": [
       "RWT     0.012954\n",
       "HELE    0.023937\n",
       "UVV     0.034273\n",
       "Name: con_order, dtype: float64"
      ]
     },
     "execution_count": 67,
     "metadata": {},
     "output_type": "execute_result"
    }
   ],
   "source": [
    "p.loc[\"con_order\",p.loc[\"con_order\",:] <0.1]"
   ]
  },
  {
   "cell_type": "code",
   "execution_count": 68,
   "metadata": {},
   "outputs": [
    {
     "data": {
      "text/plain": [
       "FBC    0.022559\n",
       "RWT    0.050051\n",
       "UVV    0.078849\n",
       "Name: spread, dtype: float64"
      ]
     },
     "execution_count": 68,
     "metadata": {},
     "output_type": "execute_result"
    }
   ],
   "source": [
    "p.loc[\"spread\",p.loc[\"spread\",:] <0.1]"
   ]
  },
  {
   "cell_type": "code",
   "execution_count": 69,
   "metadata": {},
   "outputs": [
    {
     "data": {
      "text/plain": [
       "T    0.038852\n",
       "Name: claim, dtype: float64"
      ]
     },
     "execution_count": 69,
     "metadata": {},
     "output_type": "execute_result"
    }
   ],
   "source": [
    "p.loc[\"claim\",p.loc[\"claim\",:] <0.1]"
   ]
  },
  {
   "cell_type": "code",
   "execution_count": 70,
   "metadata": {},
   "outputs": [
    {
     "data": {
      "text/plain": [
       "Series([], Name: M2, dtype: float64)"
      ]
     },
     "execution_count": 70,
     "metadata": {},
     "output_type": "execute_result"
    }
   ],
   "source": [
    "p.loc[\"M2\",p.loc[\"M2\",:] <0.1]"
   ]
  },
  {
   "cell_type": "code",
   "execution_count": 71,
   "metadata": {},
   "outputs": [
    {
     "data": {
      "text/plain": [
       "CLI    0.009602\n",
       "NEE    0.084439\n",
       "Name: permit, dtype: float64"
      ]
     },
     "execution_count": 71,
     "metadata": {},
     "output_type": "execute_result"
    }
   ],
   "source": [
    "p.loc[\"permit\",p.loc[\"permit\",:] <0.1]"
   ]
  },
  {
   "cell_type": "markdown",
   "metadata": {},
   "source": [
    "factors:\n",
    "\n",
    " hours - Average weekly hours\n",
    "\n",
    " claim - Average weekly jobless claims for unemployment insurance\n",
    "\n",
    " con_order - Manufacturers' new orders for consumer goods/materials\n",
    "\n",
    " man_order - Manufacturers' new orders for non-defense capital goods\n",
    "\n",
    " permit - Building permits\n",
    "\n",
    " M2 - Money Supply (M2)\n",
    "\n",
    " spread - Interest rate spread (10-year Treasury vs. Federal Funds target)\n",
    "\n",
    " umich - Index of consumer expectations\n",
    "\n",
    " sp500 - S&P 500"
   ]
  },
  {
   "cell_type": "markdown",
   "metadata": {},
   "source": [
    "### From the results of the regression from 2000-1 to 2003-12, we can see that the four factors with the highest explainatory value are average working hours, S&P 500,  order for capital goods and order for consumer goods."
   ]
  },
  {
   "cell_type": "code",
   "execution_count": null,
   "metadata": {
    "collapsed": true
   },
   "outputs": [],
   "source": []
  }
 ],
 "metadata": {
  "kernelspec": {
   "display_name": "Python 3",
   "language": "python",
   "name": "python3"
  },
  "language_info": {
   "codemirror_mode": {
    "name": "ipython",
    "version": 3
   },
   "file_extension": ".py",
   "mimetype": "text/x-python",
   "name": "python",
   "nbconvert_exporter": "python",
   "pygments_lexer": "ipython3",
   "version": "3.6.1"
  }
 },
 "nbformat": 4,
 "nbformat_minor": 2
}
